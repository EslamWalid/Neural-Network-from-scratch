{
  "nbformat": 4,
  "nbformat_minor": 0,
  "metadata": {
    "colab": {
      "provenance": []
    },
    "kernelspec": {
      "name": "python3",
      "display_name": "Python 3"
    },
    "language_info": {
      "name": "python"
    }
  },
  "cells": [
    {
      "cell_type": "markdown",
      "source": [
        "# appling some Code from \"Nueral Network from scratch in python\" Book"
      ],
      "metadata": {
        "id": "2g6MzEKW2gSX"
      }
    },
    {
      "cell_type": "code",
      "execution_count": 1,
      "metadata": {
        "colab": {
          "base_uri": "https://localhost:8080/",
          "height": 1000
        },
        "id": "GDBnO13Kwo9T",
        "outputId": "56706f7a-f3a7-4bf0-ae3f-07c070278d80"
      },
      "outputs": [
        {
          "output_type": "stream",
          "name": "stdout",
          "text": [
            "Reading package lists... Done\n",
            "Building dependency tree... Done\n",
            "Reading state information... Done\n",
            "E: Unable to locate package python3.7.7\n",
            "E: Couldn't find any package by glob 'python3.7.7'\n",
            "E: Couldn't find any package by regex 'python3.7.7'\n",
            "Collecting numpy==1.18.2\n",
            "  Downloading numpy-1.18.2.zip (5.4 MB)\n",
            "\u001b[2K     \u001b[90m━━━━━━━━━━━━━━━━━━━━━━━━━━━━━━━━━━━━━━━━\u001b[0m \u001b[32m5.4/5.4 MB\u001b[0m \u001b[31m10.7 MB/s\u001b[0m eta \u001b[36m0:00:00\u001b[0m\n",
            "\u001b[?25h  Installing build dependencies ... \u001b[?25l\u001b[?25hdone\n",
            "  Getting requirements to build wheel ... \u001b[?25l\u001b[?25hdone\n",
            "  \u001b[1;31merror\u001b[0m: \u001b[1msubprocess-exited-with-error\u001b[0m\n",
            "  \n",
            "  \u001b[31m×\u001b[0m \u001b[32mPreparing metadata \u001b[0m\u001b[1;32m(\u001b[0m\u001b[32mpyproject.toml\u001b[0m\u001b[1;32m)\u001b[0m did not run successfully.\n",
            "  \u001b[31m│\u001b[0m exit code: \u001b[1;36m1\u001b[0m\n",
            "  \u001b[31m╰─>\u001b[0m See above for output.\n",
            "  \n",
            "  \u001b[1;35mnote\u001b[0m: This error originates from a subprocess, and is likely not a problem with pip.\n",
            "  Preparing metadata (pyproject.toml) ... \u001b[?25l\u001b[?25herror\n",
            "\u001b[1;31merror\u001b[0m: \u001b[1mmetadata-generation-failed\u001b[0m\n",
            "\n",
            "\u001b[31m×\u001b[0m Encountered error while generating package metadata.\n",
            "\u001b[31m╰─>\u001b[0m See above for output.\n",
            "\n",
            "\u001b[1;35mnote\u001b[0m: This is an issue with the package mentioned above, not pip.\n",
            "\u001b[1;36mhint\u001b[0m: See above for details.\n",
            "Collecting matplotlib==3.2.1\n",
            "  Downloading matplotlib-3.2.1.tar.gz (40.3 MB)\n",
            "\u001b[2K     \u001b[90m━━━━━━━━━━━━━━━━━━━━━━━━━━━━━━━━━━━━━━━━\u001b[0m \u001b[32m40.3/40.3 MB\u001b[0m \u001b[31m20.6 MB/s\u001b[0m eta \u001b[36m0:00:00\u001b[0m\n",
            "\u001b[?25h  Preparing metadata (setup.py) ... \u001b[?25l\u001b[?25hdone\n",
            "Requirement already satisfied: cycler>=0.10 in /usr/local/lib/python3.10/dist-packages (from matplotlib==3.2.1) (0.12.1)\n",
            "Requirement already satisfied: kiwisolver>=1.0.1 in /usr/local/lib/python3.10/dist-packages (from matplotlib==3.2.1) (1.4.5)\n",
            "Requirement already satisfied: numpy>=1.11 in /usr/local/lib/python3.10/dist-packages (from matplotlib==3.2.1) (1.25.2)\n",
            "Requirement already satisfied: pyparsing!=2.0.4,!=2.1.2,!=2.1.6,>=2.0.1 in /usr/local/lib/python3.10/dist-packages (from matplotlib==3.2.1) (3.1.2)\n",
            "Requirement already satisfied: python-dateutil>=2.1 in /usr/local/lib/python3.10/dist-packages (from matplotlib==3.2.1) (2.8.2)\n",
            "Requirement already satisfied: six>=1.5 in /usr/local/lib/python3.10/dist-packages (from python-dateutil>=2.1->matplotlib==3.2.1) (1.16.0)\n",
            "Building wheels for collected packages: matplotlib\n",
            "  Building wheel for matplotlib (setup.py) ... \u001b[?25l\u001b[?25hdone\n",
            "  Created wheel for matplotlib: filename=matplotlib-3.2.1-cp310-cp310-linux_x86_64.whl size=11957328 sha256=a9be2e379333ab787ca5d1e84cd2b60546c13b062d0aafd52628fb809aed4654\n",
            "  Stored in directory: /root/.cache/pip/wheels/8d/1f/fc/9f9c5dacbb58d86a07f845c2523409d563663d152d5a332853\n",
            "Successfully built matplotlib\n",
            "Installing collected packages: matplotlib\n",
            "  Attempting uninstall: matplotlib\n",
            "    Found existing installation: matplotlib 3.7.1\n",
            "    Uninstalling matplotlib-3.7.1:\n",
            "      Successfully uninstalled matplotlib-3.7.1\n",
            "\u001b[31mERROR: pip's dependency resolver does not currently take into account all the packages that are installed. This behaviour is the source of the following dependency conflicts.\n",
            "bigframes 0.26.0 requires matplotlib>=3.7.1, but you have matplotlib 3.2.1 which is incompatible.\n",
            "mizani 0.9.3 requires matplotlib>=3.5.0, but you have matplotlib 3.2.1 which is incompatible.\n",
            "plotnine 0.12.4 requires matplotlib>=3.6.0, but you have matplotlib 3.2.1 which is incompatible.\n",
            "seaborn 0.13.1 requires matplotlib!=3.6.1,>=3.4, but you have matplotlib 3.2.1 which is incompatible.\u001b[0m\u001b[31m\n",
            "\u001b[0mSuccessfully installed matplotlib-3.2.1\n"
          ]
        },
        {
          "output_type": "display_data",
          "data": {
            "application/vnd.colab-display-data+json": {
              "pip_warning": {
                "packages": [
                  "matplotlib",
                  "mpl_toolkits"
                ]
              },
              "id": "40da5aa069e6433aa610808b517c0abd"
            }
          },
          "metadata": {}
        }
      ],
      "source": [
        "!sudo apt-get install python3.7.7\n",
        "! pip install numpy==1.18.2\n",
        "! pip install matplotlib==3.2.1"
      ]
    },
    {
      "cell_type": "code",
      "source": [
        "!pip install nnfs"
      ],
      "metadata": {
        "id": "gEbqMEzREoMm",
        "outputId": "b5fa0f19-b991-47a6-d41a-76ba45ffb308",
        "colab": {
          "base_uri": "https://localhost:8080/"
        }
      },
      "execution_count": 2,
      "outputs": [
        {
          "output_type": "stream",
          "name": "stdout",
          "text": [
            "Collecting nnfs\n",
            "  Downloading nnfs-0.5.1-py3-none-any.whl (9.1 kB)\n",
            "Requirement already satisfied: numpy in /usr/local/lib/python3.10/dist-packages (from nnfs) (1.25.2)\n",
            "Installing collected packages: nnfs\n",
            "Successfully installed nnfs-0.5.1\n"
          ]
        }
      ]
    },
    {
      "cell_type": "markdown",
      "source": [
        "### first neural network"
      ],
      "metadata": {
        "id": "FVVZ_-N02VCZ"
      }
    },
    {
      "cell_type": "code",
      "source": [
        "import numpy as np\n",
        "import matplotlib\n",
        "import math"
      ],
      "metadata": {
        "id": "rwIcLxcczyBI"
      },
      "execution_count": 3,
      "outputs": []
    },
    {
      "cell_type": "code",
      "source": [
        "inputs=[1.2,5.1,2.1]\n",
        "weights=[3.1,2.1,8.7]\n",
        "bias=3\n",
        "\n",
        "outputs=inputs[0]*weights[0]+inputs[1]*weights[1]+inputs[2]*weights[2]+bias\n",
        "print(outputs)\n"
      ],
      "metadata": {
        "colab": {
          "base_uri": "https://localhost:8080/"
        },
        "id": "cfiRmdki1VhP",
        "outputId": "bc1d4c6f-2a9c-49e0-809d-3d531b9abd3e"
      },
      "execution_count": 4,
      "outputs": [
        {
          "output_type": "stream",
          "name": "stdout",
          "text": [
            "35.7\n"
          ]
        }
      ]
    },
    {
      "cell_type": "markdown",
      "source": [
        "### appling weights as Book"
      ],
      "metadata": {
        "id": "MCegyfkl2eSH"
      }
    },
    {
      "cell_type": "code",
      "source": [
        "inputs=[1,2,3]\n",
        "weights=[0.2,0.8,-0.5]\n",
        "bias=2\n",
        "\n",
        "outputs=inputs[0]*weights[0]+inputs[1]*weights[1]+inputs[2]*weights[2]+bias\n",
        "print(outputs)\n"
      ],
      "metadata": {
        "colab": {
          "base_uri": "https://localhost:8080/"
        },
        "id": "-3X_yWcN1Von",
        "outputId": "2a5a4d8d-6b58-4936-d14e-ff03f3ae0460"
      },
      "execution_count": 5,
      "outputs": [
        {
          "output_type": "stream",
          "name": "stdout",
          "text": [
            "2.3\n"
          ]
        }
      ]
    },
    {
      "cell_type": "code",
      "source": [
        "# adding one more input\n",
        "inputs=[1,2,3,2.5]\n",
        "weights=[0.2,0.8,-0.5,1.0]\n",
        "bias=2\n",
        "\n",
        "outputs=inputs[0]*weights[0]+inputs[1]*weights[1]+inputs[2]*weights[2]+inputs[3]*weights[3]+bias\n",
        "print(outputs)\n"
      ],
      "metadata": {
        "colab": {
          "base_uri": "https://localhost:8080/"
        },
        "id": "q-8ToHwk1Vqm",
        "outputId": "dca4e807-6562-45c1-c973-40a4e181e58d"
      },
      "execution_count": 6,
      "outputs": [
        {
          "output_type": "stream",
          "name": "stdout",
          "text": [
            "4.8\n"
          ]
        }
      ]
    },
    {
      "cell_type": "code",
      "source": [
        "# using 3 neurons\n",
        "\n",
        "inputs1=[1,2,3,2.5]\n",
        "weights1=[0.2,0.8,-0.5,1.0]\n",
        "weights2=[0.5,-0.91,0.26,-0.5]\n",
        "weights3=[-0.26,-0.27,0.17,0.87]\n",
        "bias1=2\n",
        "bias2=3\n",
        "bias3=0.5\n",
        "\n",
        "outputs=[inputs1[0]*weights1[0]+inputs1[1]*weights1[1]+inputs1[2]*weights1[2]+inputs1[3]*weights1[3]+bias1,\n",
        "         inputs1[0]*weights2[0]+inputs1[1]*weights2[1]+inputs1[2]*weights2[2]+inputs1[3]*weights2[3]+bias2,\n",
        "         inputs1[0]*weights3[0]+inputs1[1]*weights3[1]+inputs1[2]*weights3[2]+inputs1[3]*weights[3]+bias3]\n",
        "print(outputs)\n",
        "\n",
        "\n"
      ],
      "metadata": {
        "colab": {
          "base_uri": "https://localhost:8080/"
        },
        "id": "vQO_2X251VvX",
        "outputId": "4fde75a1-18e8-4c77-a490-12917de32ce5"
      },
      "execution_count": 7,
      "outputs": [
        {
          "output_type": "stream",
          "name": "stdout",
          "text": [
            "[4.8, 1.21, 2.71]\n"
          ]
        }
      ]
    },
    {
      "cell_type": "markdown",
      "source": [
        "### Dot product"
      ],
      "metadata": {
        "id": "sAM3RRMf61iH"
      }
    },
    {
      "cell_type": "code",
      "source": [
        "\n",
        "inputs1=[1,2,3,2.5]\n",
        "weight=[[0.2,0.8,-0.5,1.0],[0.5,-0.91,0.26,-0.5],[-0.26,-0.27,0.17,0.87]]\n",
        "bias=[2,3,0.5]\n",
        "\n",
        "layer_outputs =[]\n",
        "\n",
        "for neuron_weights ,neuron_bias in zip(weight,bias):\n",
        "  neuron_output=0\n",
        "\n",
        "  for n_input,weight in zip(inputs,neuron_weights):\n",
        "    neuron_output+= n_input*weight\n",
        "\n",
        "  neuron_output+=neuron_bias\n",
        "  layer_outputs.append(neuron_output)\n",
        "\n",
        "print(layer_outputs)\n"
      ],
      "metadata": {
        "colab": {
          "base_uri": "https://localhost:8080/"
        },
        "id": "YWVVxPEZ5lSC",
        "outputId": "92cdb8a9-b85c-4e45-feaa-f171de3300ba"
      },
      "execution_count": 8,
      "outputs": [
        {
          "output_type": "stream",
          "name": "stdout",
          "text": [
            "[4.8, 1.21, 2.385]\n"
          ]
        }
      ]
    },
    {
      "cell_type": "code",
      "source": [
        "inputs=[1,2,3,2.5]\n",
        "weight=[0.2,0.8,-0.5,1.0]\n",
        "bias=2\n",
        "\n",
        "output=np.dot(inputs,weight)+bias\n",
        "print(output)\n"
      ],
      "metadata": {
        "colab": {
          "base_uri": "https://localhost:8080/"
        },
        "id": "QQnGHGWz8iKo",
        "outputId": "ffa45ce8-fbd1-4fb6-c78e-1efa59d5b580"
      },
      "execution_count": 9,
      "outputs": [
        {
          "output_type": "stream",
          "name": "stdout",
          "text": [
            "4.8\n"
          ]
        }
      ]
    },
    {
      "cell_type": "code",
      "source": [
        "\n",
        "inputs=[1,2,3,2.5]\n",
        "weight=[[0.2,0.8,-0.5,1.0],[0.5,-0.91,0.26,-0.5],[-0.26,-0.27,0.17,0.87]]\n",
        "bias=[2,3,0.5]\n",
        "\n",
        "output1=np.dot(weight,inputs)+bias\n",
        "\n",
        "print(output1)\n"
      ],
      "metadata": {
        "colab": {
          "base_uri": "https://localhost:8080/"
        },
        "id": "HQOJh4ao_UYY",
        "outputId": "2dba3f33-deb3-455f-87cc-e7fc9e26b2e7"
      },
      "execution_count": 10,
      "outputs": [
        {
          "output_type": "stream",
          "name": "stdout",
          "text": [
            "[4.8   1.21  2.385]\n"
          ]
        }
      ]
    },
    {
      "cell_type": "markdown",
      "source": [
        "### Batches, Layers, and Objects"
      ],
      "metadata": {
        "id": "P60tkM09AwXG"
      }
    },
    {
      "cell_type": "code",
      "source": [
        "\n",
        "inputs=[[1,2,3,2.5],\n",
        "        [2.0,5.0,-1.0,2.0],\n",
        "        [-1.5,2.7,3.3,-0.8]]\n",
        "weight=[[0.2,0.8,-0.5,1.0],\n",
        "        [0.5,-0.91,0.26,-0.5],\n",
        "        [-0.26,-0.27,0.17,0.87]]\n",
        "bias=[2,3,0.5]\n",
        "\n",
        "output1=np.dot(inputs,np.array(weight).T)+bias\n",
        "\n",
        "print(output1)\n"
      ],
      "metadata": {
        "colab": {
          "base_uri": "https://localhost:8080/"
        },
        "id": "8OKXtNhC_v_y",
        "outputId": "3ca358ed-2c59-4cfc-882f-e4df7c6bdf68"
      },
      "execution_count": 11,
      "outputs": [
        {
          "output_type": "stream",
          "name": "stdout",
          "text": [
            "[[ 4.8    1.21   2.385]\n",
            " [ 8.9   -1.81   0.2  ]\n",
            " [ 1.41   1.051  0.026]]\n"
          ]
        }
      ]
    },
    {
      "cell_type": "code",
      "source": [
        "inputs=[[1,2,3,2.5],\n",
        "        [2.0,5.0,-1.0,2.0],\n",
        "        [-1.5,2.7,3.3,-0.8]]\n",
        "weight=[[0.2,0.8,-0.5,1.0],\n",
        "        [0.5,-0.91,0.26,-0.5],\n",
        "        [-0.26,-0.27,0.17,0.87]]\n",
        "bias=[2,3,0.5]\n",
        "# second layer\n",
        "weight2=[[0.1,-0.14,0.5],\n",
        "        [-0.5,0.12,-0.33],\n",
        "        [-0.44,0.73,-0.13]]\n",
        "bias2=[-1,2,-0.5]\n",
        "\n",
        "layer1=np.dot(inputs,np.array(weight).T)+bias\n",
        "layer2_output=np.dot(layer1,np.array(weight2).T)+bias2\n",
        "\n",
        "print(layer2_output)\n"
      ],
      "metadata": {
        "colab": {
          "base_uri": "https://localhost:8080/"
        },
        "id": "Cy_RCnPECoUs",
        "outputId": "df5f1c52-f35d-4008-dbac-507b2dfaf47c"
      },
      "execution_count": 12,
      "outputs": [
        {
          "output_type": "stream",
          "name": "stdout",
          "text": [
            "[[ 0.5031  -1.04185 -2.03875]\n",
            " [ 0.2434  -2.7332  -5.7633 ]\n",
            " [-0.99314  1.41254 -0.35655]]\n"
          ]
        }
      ]
    },
    {
      "cell_type": "code",
      "source": [
        "np.random.seed(0)\n",
        "class Layer_Dense:\n",
        "  def __init__(self, n_inputs , n_neurons):\n",
        "    self.weights= 0.10 * np.random.randn(n_inputs,n_neurons)\n",
        "    self.biases= np.zeros((1,n_neurons))\n",
        "\n",
        "  def forward(self, inputs):\n",
        "    self.outputs=np.dot(inputs,self.weights)+self.biases"
      ],
      "metadata": {
        "id": "nIPsnqZ2Evc6"
      },
      "execution_count": 13,
      "outputs": []
    },
    {
      "cell_type": "code",
      "source": [
        "X=[[1,2,3,2.5],\n",
        "        [2.0,5.0,-1.0,2.0],\n",
        "        [-1.5,2.7,3.3,-0.8]]\n",
        "\n",
        "Layer1=Layer_Dense(4, 5)\n",
        "\n",
        "Layer2=Layer_Dense(5,2)\n",
        "\n",
        "Layer1.forward(X)\n",
        "Layer2.forward(Layer1.outputs)\n",
        "print(Layer2.outputs)\n"
      ],
      "metadata": {
        "colab": {
          "base_uri": "https://localhost:8080/"
        },
        "id": "ibqRln14Gaan",
        "outputId": "b46d8afd-a3a3-482d-d5a8-7b88388a7be8"
      },
      "execution_count": 14,
      "outputs": [
        {
          "output_type": "stream",
          "name": "stdout",
          "text": [
            "[[ 0.148296   -0.08397602]\n",
            " [ 0.14100315 -0.01340469]\n",
            " [ 0.20124979 -0.07290616]]\n"
          ]
        }
      ]
    },
    {
      "cell_type": "markdown",
      "source": [
        "### Hidden Layer Activation Functions"
      ],
      "metadata": {
        "id": "jCXJgvtBApp6"
      }
    },
    {
      "cell_type": "code",
      "source": [
        "inputs=[0,2,-1,3.3,-2.7,1.1,2.2,-100]\n",
        "output=[]\n",
        "\n",
        "for i in inputs:\n",
        "  output.append(max(0,i))\n",
        "\n",
        "print(output)"
      ],
      "metadata": {
        "id": "ss_wTll6EV2l",
        "outputId": "67a5813b-907c-4aeb-a111-0c74fdb8ddb7",
        "colab": {
          "base_uri": "https://localhost:8080/"
        }
      },
      "execution_count": 15,
      "outputs": [
        {
          "output_type": "stream",
          "name": "stdout",
          "text": [
            "[0, 2, 0, 3.3, 0, 1.1, 2.2, 0]\n"
          ]
        }
      ]
    },
    {
      "cell_type": "code",
      "source": [
        "def spiral_data(points, classes):\n",
        "    X = np.zeros((points*classes, 2))\n",
        "    y = np.zeros(points*classes, dtype='uint8')\n",
        "    for class_number in range(classes):\n",
        "        ix = range(points*class_number, points*(class_number+1))\n",
        "        r = np.linspace(0.0, 1, points)  # radius\n",
        "        t = np.linspace(class_number*4, (class_number+1)*4, points) + np.random.randn(points)*0.2\n",
        "        X[ix] = np.c_[r*np.sin(t*2.5), r*np.cos(t*2.5)]\n",
        "        y[ix] = class_number\n",
        "    return X, y"
      ],
      "metadata": {
        "id": "7BKcgDaAFQdE"
      },
      "execution_count": 16,
      "outputs": []
    },
    {
      "cell_type": "code",
      "source": [
        "class Activation_ReLU:\n",
        "  def forward(self,inputs):\n",
        "    self.outputs=np.max(0,inputs)\n"
      ],
      "metadata": {
        "id": "UP8fkxnzDsqc"
      },
      "execution_count": 17,
      "outputs": []
    },
    {
      "cell_type": "code",
      "source": [
        "#create data\n",
        "X,y= spiral_data(100,3)\n",
        "#NN\n",
        "layer1=Layer_Dense(2,5)\n",
        "activation1= Activation_ReLU()\n",
        "\n",
        "layer1.forward(X)\n",
        "layer1.outputs\n",
        "#activation1.forward(layer1.outputs)\n",
        "\n",
        "print(layer1.outputs)"
      ],
      "metadata": {
        "id": "fgRlx_1dH2Aj",
        "outputId": "0d92f800-064a-4025-f57f-847f194e7c14",
        "colab": {
          "base_uri": "https://localhost:8080/"
        }
      },
      "execution_count": 18,
      "outputs": [
        {
          "output_type": "stream",
          "name": "stdout",
          "text": [
            "[[ 0.          0.          0.          0.          0.        ]\n",
            " [ 0.00080274 -0.00204304  0.00065987 -0.00100411  0.00083796]\n",
            " [ 0.00082768 -0.00286869  0.0005103  -0.00076876  0.00454176]\n",
            " ...\n",
            " [ 0.01800099 -0.09704996  0.00336391 -0.00459795  0.26602511]\n",
            " [-0.08834392  0.16360456 -0.08628659  0.13192221  0.20328078]\n",
            " [-0.02497925 -0.0066356  -0.03620114  0.05579987  0.31271706]]\n"
          ]
        }
      ]
    },
    {
      "cell_type": "markdown",
      "source": [
        "### Softmax Activation"
      ],
      "metadata": {
        "id": "V070EdscN-5W"
      }
    },
    {
      "cell_type": "code",
      "source": [
        "layer_output=[[4.8,1.21,2.385],\n",
        "              [8.9,-1.8,0.2],\n",
        "              [1.41,1.051,0.026]]\n",
        "#E=math.e\n",
        "exp_values=np.exp(layer_output)\n",
        "\n",
        "#normalize values\n",
        "norm_values=exp_values/np.sum(exp_values,axis=1,keepdims=True)\n",
        "\n",
        "\n",
        "\n",
        "print(norm_values)\n",
        "print(sum(norm_values))"
      ],
      "metadata": {
        "id": "5RXK92deJJZS",
        "outputId": "480d9727-44f6-4167-827a-ef655c946743",
        "colab": {
          "base_uri": "https://localhost:8080/"
        }
      },
      "execution_count": 19,
      "outputs": [
        {
          "output_type": "stream",
          "name": "stdout",
          "text": [
            "[[8.95282664e-01 2.47083068e-02 8.00090293e-02]\n",
            " [9.99810905e-01 2.25406748e-05 1.66554310e-04]\n",
            " [5.13097164e-01 3.58333899e-01 1.28568936e-01]]\n",
            "[2.40819073 0.38306475 0.20874452]\n"
          ]
        }
      ]
    },
    {
      "cell_type": "code",
      "source": [
        "class Activation_Softmax:\n",
        "  def forward(self, inputs):\n",
        "    exp_values=np.exp(inputs-np.max(inputs,axis=1,keepdims=True))\n",
        "    probabilities=exp_values/np.sum(exp_values,axis=1,keepdims=True)\n",
        "    self.output=probabilities"
      ],
      "metadata": {
        "id": "dj-n1OtPLIcC"
      },
      "execution_count": 20,
      "outputs": []
    },
    {
      "cell_type": "code",
      "source": [
        "dense1=Layer_Dense(2,3)\n",
        "activ1=Activation_ReLU()\n",
        "\n",
        "dense2=Layer_Dense(3,3)\n",
        "activ2=Activation_Softmax()\n",
        "\n",
        "dense1.forward(X)\n",
        "activ1.forward(dense1.outputs)\n",
        "dense2.forward(activ1.outputs)\n",
        "activ2.forward(dense2.outputs)"
      ],
      "metadata": {
        "id": "2Y6M7MjvSrsg",
        "outputId": "4a2cb09e-85e1-4744-b777-6afcb3559b4c",
        "colab": {
          "base_uri": "https://localhost:8080/",
          "height": 367
        }
      },
      "execution_count": 21,
      "outputs": [
        {
          "output_type": "error",
          "ename": "TypeError",
          "evalue": "only integer scalar arrays can be converted to a scalar index",
          "traceback": [
            "\u001b[0;31m---------------------------------------------------------------------------\u001b[0m",
            "\u001b[0;31mTypeError\u001b[0m                                 Traceback (most recent call last)",
            "\u001b[0;32m<ipython-input-21-6156a46bcbb0>\u001b[0m in \u001b[0;36m<cell line: 8>\u001b[0;34m()\u001b[0m\n\u001b[1;32m      6\u001b[0m \u001b[0;34m\u001b[0m\u001b[0m\n\u001b[1;32m      7\u001b[0m \u001b[0mdense1\u001b[0m\u001b[0;34m.\u001b[0m\u001b[0mforward\u001b[0m\u001b[0;34m(\u001b[0m\u001b[0mX\u001b[0m\u001b[0;34m)\u001b[0m\u001b[0;34m\u001b[0m\u001b[0;34m\u001b[0m\u001b[0m\n\u001b[0;32m----> 8\u001b[0;31m \u001b[0mactiv1\u001b[0m\u001b[0;34m.\u001b[0m\u001b[0mforward\u001b[0m\u001b[0;34m(\u001b[0m\u001b[0mdense1\u001b[0m\u001b[0;34m.\u001b[0m\u001b[0moutputs\u001b[0m\u001b[0;34m)\u001b[0m\u001b[0;34m\u001b[0m\u001b[0;34m\u001b[0m\u001b[0m\n\u001b[0m\u001b[1;32m      9\u001b[0m \u001b[0mdense2\u001b[0m\u001b[0;34m.\u001b[0m\u001b[0mforward\u001b[0m\u001b[0;34m(\u001b[0m\u001b[0mactiv1\u001b[0m\u001b[0;34m.\u001b[0m\u001b[0moutputs\u001b[0m\u001b[0;34m)\u001b[0m\u001b[0;34m\u001b[0m\u001b[0;34m\u001b[0m\u001b[0m\n\u001b[1;32m     10\u001b[0m \u001b[0mactiv2\u001b[0m\u001b[0;34m.\u001b[0m\u001b[0mforward\u001b[0m\u001b[0;34m(\u001b[0m\u001b[0mdense2\u001b[0m\u001b[0;34m.\u001b[0m\u001b[0moutputs\u001b[0m\u001b[0;34m)\u001b[0m\u001b[0;34m\u001b[0m\u001b[0;34m\u001b[0m\u001b[0m\n",
            "\u001b[0;32m<ipython-input-17-d5b02d8a5988>\u001b[0m in \u001b[0;36mforward\u001b[0;34m(self, inputs)\u001b[0m\n\u001b[1;32m      1\u001b[0m \u001b[0;32mclass\u001b[0m \u001b[0mActivation_ReLU\u001b[0m\u001b[0;34m:\u001b[0m\u001b[0;34m\u001b[0m\u001b[0;34m\u001b[0m\u001b[0m\n\u001b[1;32m      2\u001b[0m   \u001b[0;32mdef\u001b[0m \u001b[0mforward\u001b[0m\u001b[0;34m(\u001b[0m\u001b[0mself\u001b[0m\u001b[0;34m,\u001b[0m\u001b[0minputs\u001b[0m\u001b[0;34m)\u001b[0m\u001b[0;34m:\u001b[0m\u001b[0;34m\u001b[0m\u001b[0;34m\u001b[0m\u001b[0m\n\u001b[0;32m----> 3\u001b[0;31m     \u001b[0mself\u001b[0m\u001b[0;34m.\u001b[0m\u001b[0moutputs\u001b[0m\u001b[0;34m=\u001b[0m\u001b[0mnp\u001b[0m\u001b[0;34m.\u001b[0m\u001b[0mmax\u001b[0m\u001b[0;34m(\u001b[0m\u001b[0;36m0\u001b[0m\u001b[0;34m,\u001b[0m\u001b[0minputs\u001b[0m\u001b[0;34m)\u001b[0m\u001b[0;34m\u001b[0m\u001b[0;34m\u001b[0m\u001b[0m\n\u001b[0m",
            "\u001b[0;32m/usr/local/lib/python3.10/dist-packages/numpy/core/fromnumeric.py\u001b[0m in \u001b[0;36mmax\u001b[0;34m(a, axis, out, keepdims, initial, where)\u001b[0m\n\u001b[1;32m   2808\u001b[0m     \u001b[0;36m5\u001b[0m\u001b[0;34m\u001b[0m\u001b[0;34m\u001b[0m\u001b[0m\n\u001b[1;32m   2809\u001b[0m     \"\"\"\n\u001b[0;32m-> 2810\u001b[0;31m     return _wrapreduction(a, np.maximum, 'max', axis, None, out,\n\u001b[0m\u001b[1;32m   2811\u001b[0m                           keepdims=keepdims, initial=initial, where=where)\n\u001b[1;32m   2812\u001b[0m \u001b[0;34m\u001b[0m\u001b[0m\n",
            "\u001b[0;32m/usr/local/lib/python3.10/dist-packages/numpy/core/fromnumeric.py\u001b[0m in \u001b[0;36m_wrapreduction\u001b[0;34m(obj, ufunc, method, axis, dtype, out, **kwargs)\u001b[0m\n\u001b[1;32m     86\u001b[0m                 \u001b[0;32mreturn\u001b[0m \u001b[0mreduction\u001b[0m\u001b[0;34m(\u001b[0m\u001b[0maxis\u001b[0m\u001b[0;34m=\u001b[0m\u001b[0maxis\u001b[0m\u001b[0;34m,\u001b[0m \u001b[0mout\u001b[0m\u001b[0;34m=\u001b[0m\u001b[0mout\u001b[0m\u001b[0;34m,\u001b[0m \u001b[0;34m**\u001b[0m\u001b[0mpasskwargs\u001b[0m\u001b[0;34m)\u001b[0m\u001b[0;34m\u001b[0m\u001b[0;34m\u001b[0m\u001b[0m\n\u001b[1;32m     87\u001b[0m \u001b[0;34m\u001b[0m\u001b[0m\n\u001b[0;32m---> 88\u001b[0;31m     \u001b[0;32mreturn\u001b[0m \u001b[0mufunc\u001b[0m\u001b[0;34m.\u001b[0m\u001b[0mreduce\u001b[0m\u001b[0;34m(\u001b[0m\u001b[0mobj\u001b[0m\u001b[0;34m,\u001b[0m \u001b[0maxis\u001b[0m\u001b[0;34m,\u001b[0m \u001b[0mdtype\u001b[0m\u001b[0;34m,\u001b[0m \u001b[0mout\u001b[0m\u001b[0;34m,\u001b[0m \u001b[0;34m**\u001b[0m\u001b[0mpasskwargs\u001b[0m\u001b[0;34m)\u001b[0m\u001b[0;34m\u001b[0m\u001b[0;34m\u001b[0m\u001b[0m\n\u001b[0m\u001b[1;32m     89\u001b[0m \u001b[0;34m\u001b[0m\u001b[0m\n\u001b[1;32m     90\u001b[0m \u001b[0;34m\u001b[0m\u001b[0m\n",
            "\u001b[0;31mTypeError\u001b[0m: only integer scalar arrays can be converted to a scalar index"
          ]
        }
      ]
    },
    {
      "cell_type": "code",
      "source": [
        "y"
      ],
      "metadata": {
        "id": "HEsg5pnFTKfH",
        "outputId": "ece53f89-be0d-4ca2-b681-ef25065764d7",
        "colab": {
          "base_uri": "https://localhost:8080/"
        }
      },
      "execution_count": null,
      "outputs": [
        {
          "output_type": "execute_result",
          "data": {
            "text/plain": [
              "array([0, 0, 0, 0, 0, 0, 0, 0, 0, 0, 0, 0, 0, 0, 0, 0, 0, 0, 0, 0, 0, 0,\n",
              "       0, 0, 0, 0, 0, 0, 0, 0, 0, 0, 0, 0, 0, 0, 0, 0, 0, 0, 0, 0, 0, 0,\n",
              "       0, 0, 0, 0, 0, 0, 0, 0, 0, 0, 0, 0, 0, 0, 0, 0, 0, 0, 0, 0, 0, 0,\n",
              "       0, 0, 0, 0, 0, 0, 0, 0, 0, 0, 0, 0, 0, 0, 0, 0, 0, 0, 0, 0, 0, 0,\n",
              "       0, 0, 0, 0, 0, 0, 0, 0, 0, 0, 0, 0, 1, 1, 1, 1, 1, 1, 1, 1, 1, 1,\n",
              "       1, 1, 1, 1, 1, 1, 1, 1, 1, 1, 1, 1, 1, 1, 1, 1, 1, 1, 1, 1, 1, 1,\n",
              "       1, 1, 1, 1, 1, 1, 1, 1, 1, 1, 1, 1, 1, 1, 1, 1, 1, 1, 1, 1, 1, 1,\n",
              "       1, 1, 1, 1, 1, 1, 1, 1, 1, 1, 1, 1, 1, 1, 1, 1, 1, 1, 1, 1, 1, 1,\n",
              "       1, 1, 1, 1, 1, 1, 1, 1, 1, 1, 1, 1, 1, 1, 1, 1, 1, 1, 1, 1, 1, 1,\n",
              "       1, 1, 2, 2, 2, 2, 2, 2, 2, 2, 2, 2, 2, 2, 2, 2, 2, 2, 2, 2, 2, 2,\n",
              "       2, 2, 2, 2, 2, 2, 2, 2, 2, 2, 2, 2, 2, 2, 2, 2, 2, 2, 2, 2, 2, 2,\n",
              "       2, 2, 2, 2, 2, 2, 2, 2, 2, 2, 2, 2, 2, 2, 2, 2, 2, 2, 2, 2, 2, 2,\n",
              "       2, 2, 2, 2, 2, 2, 2, 2, 2, 2, 2, 2, 2, 2, 2, 2, 2, 2, 2, 2, 2, 2,\n",
              "       2, 2, 2, 2, 2, 2, 2, 2, 2, 2, 2, 2, 2, 2], dtype=uint8)"
            ]
          },
          "metadata": {},
          "execution_count": 45
        }
      ]
    },
    {
      "cell_type": "code",
      "source": [],
      "metadata": {
        "id": "eTDOFWTzTLND"
      },
      "execution_count": null,
      "outputs": []
    },
    {
      "cell_type": "markdown",
      "source": [
        "### Calculating Loss with Categorical Cross-Entropy"
      ],
      "metadata": {
        "id": "L1iS1UHHGTlw"
      }
    },
    {
      "cell_type": "code",
      "source": [
        "softmax_output=[0.7,0.1,0.2]\n",
        "target_output=[1,0,0]\n",
        "\n",
        "loss=-(math.log(softmax_output[0])*target_output[0]+\n",
        "       math.log(softmax_output[1])*target_output[1]+\n",
        "       math.log(softmax_output[2])*target_output[2])\n",
        "\n",
        "print(loss)"
      ],
      "metadata": {
        "id": "UAscfwrOGX86",
        "outputId": "baad4ff9-195d-4bb2-9f72-5e77a970e899",
        "colab": {
          "base_uri": "https://localhost:8080/"
        }
      },
      "execution_count": 22,
      "outputs": [
        {
          "output_type": "stream",
          "name": "stdout",
          "text": [
            "0.35667494393873245\n"
          ]
        }
      ]
    },
    {
      "cell_type": "code",
      "source": [
        "softmax_output=np.array([[0.7,0.1,0.2],\n",
        "                        [0.1,0.5,0.4],\n",
        "                        [0.02,0.9,0.08]])\n",
        "class_targets=[0,1,1]\n",
        "print(softmax_output[[0,1,2],class_targets])"
      ],
      "metadata": {
        "id": "WOSZ6WugHqAy",
        "outputId": "8af5d7b6-e9d9-403d-bf73-3824e01ebaaf",
        "colab": {
          "base_uri": "https://localhost:8080/"
        }
      },
      "execution_count": 24,
      "outputs": [
        {
          "output_type": "stream",
          "name": "stdout",
          "text": [
            "[0.7 0.5 0.9]\n"
          ]
        }
      ]
    },
    {
      "cell_type": "code",
      "source": [
        "class Loss:\n",
        "  def calculate(self,inputs):\n",
        "    sample_losses=self.forward(output,y)\n",
        "    data_loss=np.mean(sample_losses)\n",
        "    return data_loss\n",
        "\n",
        "class Loss_CategoricalCrossentropy(Loss):\n",
        "  def forward(self, y_pred, y_true):\n",
        "    samples=len(y_pred)\n",
        "    y_pred_clipped=np.clip(y_pred,1e-7,1-1e-7)\n",
        "    if len(y_true.shape)==1:\n",
        "      correct_conf=y_pred_clipped[range(samples),y_true]\n",
        "\n",
        "    elif len(y_true.shape)==2:\n",
        "      correct_conf=np.sum(y_pred_clipped*y_true,axis=1)\n",
        "\n",
        "    neg_log_liklihood=np.log(correct_conf)\n",
        "    return neg_log_liklihood\n"
      ],
      "metadata": {
        "id": "-HhDjHEtJLAD"
      },
      "execution_count": 25,
      "outputs": []
    },
    {
      "cell_type": "code",
      "source": [],
      "metadata": {
        "id": "UtAdSGKtKBCN"
      },
      "execution_count": null,
      "outputs": []
    }
  ]
}